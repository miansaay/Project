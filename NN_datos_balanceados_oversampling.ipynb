{
 "cells": [
  {
   "cell_type": "markdown",
   "metadata": {},
   "source": [
    "## NN datos balanceados oversampling\n",
    "\n"
   ]
  },
  {
   "cell_type": "code",
   "execution_count": 1,
   "metadata": {},
   "outputs": [
    {
     "name": "stdout",
     "output_type": "stream",
     "text": [
      "(4781, 9000)\n"
     ]
    },
    {
     "data": {
      "image/png": "[encoded data removed]",
      "text/plain": [
       "<matplotlib.figure.Figure at 0x7f5558463250>"
      ]
     },
     "metadata": {},
     "output_type": "display_data"
    }
   ],
   "source": [
    "#load data\n",
    "#load data\n",
    "%matplotlib inline\n",
    "import matplotlib.pyplot as plt\n",
    "#load data\n",
    "import numpy as np\n",
    "\n",
    "X_train = np.load('X_train.npy')\n",
    "y_train = np.load('y_train.npy')\n",
    "\n",
    "X_test = np.load('X_test.npy')\n",
    "y_test = np.load('y_test.npy')\n",
    "\n",
    "#Decimamos\n",
    "\n",
    "X_train = np.load('X_train.npy')\n",
    "y_train = np.load('y_train.npy')\n",
    "\n",
    "X_test = np.load('X_test.npy')\n",
    "y_test = np.load('y_test.npy')\n",
    "\n",
    "fs = 300. #Hz\n",
    "t = np.arange(len(X_train[0]))/fs\n",
    "plt.plot(t,X_train[0,:])\n",
    "\n",
    "#Es probable que tengamos un problema mal condicionado: vamos a realizar un submuestreo de la señal a 50 muestras por segundo\n",
    "from scipy import signal\n",
    "\n",
    "decimate = False\n",
    "\n",
    "if decimate:\n",
    "    freq = fs/10#Hz\n",
    "    print(freq)\n",
    "    secs = len(X_train[200])/fs\n",
    "    samps = int(secs*freq)\n",
    "    c = 0\n",
    "    X_new = np.zeros((X_train.shape[0],samps))\n",
    "    X_new_test = np.zeros((X_test.shape[0],samps))\n",
    "    for x,x_test in zip(X_train,X_test):\n",
    "        X_new[c,:] = signal.decimate(x,10,ftype = 'fir')\n",
    "        X_new_test[c,:] = signal.decimate(x_test,10,ftype = 'fir')\n",
    "    \n",
    "        c += 1\n",
    "    \n",
    "    t = np.arange(len(X_new[200]))/freq\n",
    "    plt.plot(t,X_new[200,:])\n",
    "    print(len(X_new[0]))\n",
    "\n",
    "    X_train = X_new.copy()\n",
    "    X_test = X_new_test.copy()\n",
    "    \n",
    "print(X_train.shape)"
   ]
  },
  {
   "cell_type": "code",
   "execution_count": 2,
   "metadata": {},
   "outputs": [
    {
     "name": "stderr",
     "output_type": "stream",
     "text": [
      "/home/miguelangel/anaconda2/lib/python2.7/site-packages/sklearn/utils/validation.py:475: DataConversionWarning: Data with input dtype int16 was converted to float64 by StandardScaler.\n",
      "  warnings.warn(msg, DataConversionWarning)\n"
     ]
    }
   ],
   "source": [
    "from sklearn.preprocessing import StandardScaler\n",
    "\n",
    "#normalizamos train\n",
    "my_scaler = StandardScaler()\n",
    "\n",
    "X_train_n = my_scaler.fit_transform(X_train)"
   ]
  },
  {
   "cell_type": "code",
   "execution_count": 3,
   "metadata": {},
   "outputs": [
    {
     "name": "stdout",
     "output_type": "stream",
     "text": [
      "\"\"\"\"\"\"\"\"\"\"\"\"\"\"\"\"\"\"\"\"\"\"\"\"\"\"\"\"\"\"\"\"\"\"\"\"\"\"\"\"\"\"\"\"\"\"\"\"\"\n",
      "\"\"\"\"\"\"\"\"\"\"\"\"\"\"\"\"\"\"\"\"\"\"\"\"\"\"\"\"\"\"\"\"\"\"\"\"\"\"\"\"\"\"\"\"\"\"\"\"\"\n",
      "y_resampled\n",
      "[(0, 100), (1, 100), (2, 100), (3, 100)]\n",
      "y_oversampled\n",
      "[(0, 2942), (1, 2942), (2, 2942), (3, 2942)]\n",
      "y_train\n",
      "[(0, 2942), (1, 399), (2, 1340), (3, 100)]\n"
     ]
    }
   ],
   "source": [
    "#Vamos a probar balanceando con under sampling y over sampling\n",
    "from collections import Counter\n",
    "from imblearn.under_sampling import RandomUnderSampler\n",
    "rus = RandomUnderSampler(random_state=0, replacement=True)\n",
    "X_resampled, y_resampled = rus.fit_sample(X_train_n, y_train)\n",
    "\n",
    "from imblearn.over_sampling import RandomOverSampler\n",
    "ros = RandomOverSampler(random_state=0)\n",
    "X_oversampled, y_oversampled = ros.fit_sample(X_train_n, y_train)\n",
    "\n",
    "print('\"\"\"\"\"\"\"\"\"\"\"\"\"\"\"\"\"\"\"\"\"\"\"\"\"\"\"\"\"\"\"\"\"\"\"\"\"\"\"\"\"\"\"\"\"\"\"\"\"')\n",
    "print('\"\"\"\"\"\"\"\"\"\"\"\"\"\"\"\"\"\"\"\"\"\"\"\"\"\"\"\"\"\"\"\"\"\"\"\"\"\"\"\"\"\"\"\"\"\"\"\"\"')\n",
    "print(\"y_resampled\")\n",
    "print(sorted(Counter(y_resampled).items()))\n",
    "\n",
    "print(\"y_oversampled\")\n",
    "print(sorted(Counter(y_oversampled).items()))\n",
    "\n",
    "\n",
    "print(\"y_train\")\n",
    "print(sorted(Counter(y_train).items()))"
   ]
  },
  {
   "cell_type": "code",
   "execution_count": 4,
   "metadata": {},
   "outputs": [
    {
     "name": "stderr",
     "output_type": "stream",
     "text": [
      "/home/miguelangel/anaconda2/lib/python2.7/site-packages/h5py/__init__.py:36: FutureWarning: Conversion of the second argument of issubdtype from `float` to `np.floating` is deprecated. In future, it will be treated as `np.float64 == np.dtype(float).type`.\n",
      "  from ._conv import register_converters as _register_converters\n",
      "Using TensorFlow backend.\n"
     ]
    }
   ],
   "source": [
    "#función para crear un modelo de un número determinado de capas\n",
    "\n",
    "from keras.models import Sequential\n",
    "from keras.layers import Dense\n",
    "from keras.layers import Dropout\n",
    "from keras.wrappers.scikit_learn import KerasClassifier\n",
    "from keras import initializers\n",
    "from keras.layers.normalization import BatchNormalization\n",
    "import keras\n",
    "\n",
    "\n",
    "#f1 score\n",
    "from keras import backend as K\n",
    "\n",
    "def f1(y_true, y_pred):\n",
    "    def recall(y_true, y_pred):\n",
    "        \"\"\"Recall metric.\n",
    "\n",
    "        Only computes a batch-wise average of recall.\n",
    "\n",
    "        Computes the recall, a metric for multi-label classification of\n",
    "        how many relevant items are selected.\n",
    "        \"\"\"\n",
    "        true_positives = K.sum(K.round(K.clip(y_true * y_pred, 0, 1)))\n",
    "        possible_positives = K.sum(K.round(K.clip(y_true, 0, 1)))\n",
    "        recall = true_positives / (possible_positives + K.epsilon())\n",
    "        return recall\n",
    "\n",
    "    def precision(y_true, y_pred):\n",
    "        \"\"\"Precision metric.\n",
    "\n",
    "        Only computes a batch-wise average of precision.\n",
    "\n",
    "        Computes the precision, a metric for multi-label classification of\n",
    "        how many selected items are relevant.\n",
    "        \"\"\"\n",
    "        true_positives = K.sum(K.round(K.clip(y_true * y_pred, 0, 1)))\n",
    "        predicted_positives = K.sum(K.round(K.clip(y_pred, 0, 1)))\n",
    "        precision = true_positives / (predicted_positives + K.epsilon())\n",
    "        return precision\n",
    "    \n",
    "    precision = precision(y_true, y_pred)\n",
    "    recall = recall(y_true, y_pred)\n",
    "    return 2*((precision*recall)/(precision+recall+K.epsilon()))\n",
    "\n",
    "def create_model(N,n_hidd = [2,2,2],p = 0):\n",
    "    \"\"\"\n",
    "    Modelo de red neuronal. \n",
    "    \n",
    "    N: number of input featurs\n",
    "    n_hidd indica la arquitectura del modelo: n_cols = número de capas, value for eahc col, the number of hidden\n",
    "    units\n",
    "    \"\"\"\n",
    "    \n",
    "    model = Sequential()\n",
    "    \n",
    "    #input layer\n",
    "    model.add(Dense(n_hidd[0],input_dim = N,activation = 'relu'))\n",
    "    model.add(BatchNormalization())\n",
    "    \n",
    "    #hidden layers\n",
    "    for n_h in n_hidd[1:]:\n",
    "        model.add(Dense(n_h,activation='relu',kernel_initializer=initializers.he_normal(seed=None)))\n",
    "        model.add(BatchNormalization())  \n",
    "        model.add(Dropout(p))\n",
    "        \n",
    "    #output layer\n",
    "    model.add(Dense(4,activation = 'softmax'))\n",
    "   \n",
    "\n",
    "    opt =keras.optimizers.Adam(lr = 4e-2)\n",
    "    #compile model\n",
    "    model.compile(loss='categorical_crossentropy',optimizer = opt,metrics = ['accuracy',f1])\n",
    "    return model"
   ]
  },
  {
   "cell_type": "code",
   "execution_count": 5,
   "metadata": {},
   "outputs": [
    {
     "name": "stdout",
     "output_type": "stream",
     "text": [
      "(9414, 9000)\n",
      "(2354, 9000)\n"
     ]
    }
   ],
   "source": [
    "## dev and train split\n",
    "\n",
    "#Split data into dev and trin\n",
    "from sklearn.model_selection import StratifiedShuffleSplit\n",
    "skf = StratifiedShuffleSplit(n_splits = 1,test_size = 0.20)\n",
    "\n",
    "#WARNING que volvemos a llamar train\n",
    "for train, dev in skf.split(X_oversampled,y_oversampled):\n",
    "    X_train, X_dev = X_oversampled[train], X_oversampled[dev]\n",
    "    y_train, y_dev = y_oversampled[train], y_oversampled[dev]\n",
    "    \n",
    "print(X_train.shape)\n",
    "print(X_dev.shape)"
   ]
  },
  {
   "cell_type": "code",
   "execution_count": null,
   "metadata": {
    "scrolled": true
   },
   "outputs": [
    {
     "name": "stdout",
     "output_type": "stream",
     "text": [
      "[4500, 2250, 1125, 562, 281]\n",
      "9000\n",
      "Epoch 1/150\n",
      "9414/9414 [==============================] - 176s 19ms/step - loss: 1.8901 - acc: 0.3331 - f1: 0.2464\n",
      "Epoch 2/150\n",
      "9414/9414 [==============================] - 176s 19ms/step - loss: 1.3236 - acc: 0.3553 - f1: 0.1855\n",
      "Epoch 3/150\n",
      "9414/9414 [==============================] - 181s 19ms/step - loss: 1.2841 - acc: 0.3699 - f1: 0.1938\n",
      "Epoch 4/150\n",
      "9414/9414 [==============================] - 204s 22ms/step - loss: 1.2387 - acc: 0.3975 - f1: 0.2466\n",
      "Epoch 5/150\n",
      "9414/9414 [==============================] - 185s 20ms/step - loss: 1.1189 - acc: 0.4402 - f1: 0.3370\n",
      "Epoch 6/150\n",
      "9414/9414 [==============================] - 186s 20ms/step - loss: 1.0337 - acc: 0.4699 - f1: 0.3817\n",
      "Epoch 7/150\n",
      "9414/9414 [==============================] - 184s 20ms/step - loss: 1.0005 - acc: 0.4760 - f1: 0.4096\n",
      "Epoch 8/150\n",
      "9414/9414 [==============================] - 187s 20ms/step - loss: 0.9510 - acc: 0.4965 - f1: 0.4267\n",
      "Epoch 9/150\n",
      "9414/9414 [==============================] - 184s 20ms/step - loss: 0.9323 - acc: 0.5015 - f1: 0.4412\n",
      "Epoch 10/150\n",
      "9414/9414 [==============================] - 182s 19ms/step - loss: 0.9524 - acc: 0.5049 - f1: 0.4474\n",
      "Epoch 11/150\n",
      "9414/9414 [==============================] - 179s 19ms/step - loss: 0.8973 - acc: 0.5434 - f1: 0.5013\n",
      "Epoch 12/150\n",
      "9414/9414 [==============================] - 194s 21ms/step - loss: 0.8008 - acc: 0.6264 - f1: 0.6027\n",
      "Epoch 13/150\n",
      "9414/9414 [==============================] - 181s 19ms/step - loss: 0.7056 - acc: 0.6643 - f1: 0.6498\n",
      "Epoch 14/150\n",
      "9414/9414 [==============================] - 187s 20ms/step - loss: 0.5982 - acc: 0.6980 - f1: 0.6928\n",
      "Epoch 15/150\n",
      "9414/9414 [==============================] - 184s 20ms/step - loss: 0.6291 - acc: 0.6994 - f1: 0.6939\n",
      "Epoch 16/150\n",
      "9414/9414 [==============================] - 183s 19ms/step - loss: 0.5453 - acc: 0.7151 - f1: 0.7080\n",
      "Epoch 17/150\n",
      "9414/9414 [==============================] - 193s 20ms/step - loss: 0.5410 - acc: 0.7204 - f1: 0.7166\n",
      "Epoch 18/150\n",
      "9414/9414 [==============================] - 191s 20ms/step - loss: 0.5514 - acc: 0.7192 - f1: 0.7167\n",
      "Epoch 19/150\n",
      "9414/9414 [==============================] - 189s 20ms/step - loss: 0.5733 - acc: 0.7101 - f1: 0.7089\n",
      "Epoch 20/150\n",
      "9414/9414 [==============================] - 182s 19ms/step - loss: 0.5083 - acc: 0.7212 - f1: 0.7194\n",
      "Epoch 21/150\n",
      "9414/9414 [==============================] - 186s 20ms/step - loss: 0.4572 - acc: 0.7338 - f1: 0.7301\n",
      "Epoch 22/150\n",
      "9414/9414 [==============================] - 181s 19ms/step - loss: 0.4633 - acc: 0.7339 - f1: 0.7322\n",
      "Epoch 23/150\n",
      "9414/9414 [==============================] - 201s 21ms/step - loss: 0.4903 - acc: 0.7288 - f1: 0.7263\n",
      "Epoch 24/150\n",
      "9414/9414 [==============================] - 210s 22ms/step - loss: 0.5115 - acc: 0.7235 - f1: 0.7225\n",
      "Epoch 25/150\n",
      "9414/9414 [==============================] - 209s 22ms/step - loss: 0.4779 - acc: 0.7385 - f1: 0.7376\n",
      "Epoch 26/150\n",
      "9414/9414 [==============================] - 201s 21ms/step - loss: 0.4797 - acc: 0.7324 - f1: 0.7302\n",
      "Epoch 27/150\n",
      "9414/9414 [==============================] - 196s 21ms/step - loss: 0.6471 - acc: 0.7030 - f1: 0.7003\n",
      "Epoch 28/150\n",
      "9414/9414 [==============================] - 195s 21ms/step - loss: 0.5954 - acc: 0.7149 - f1: 0.7124\n",
      "Epoch 29/150\n",
      "9414/9414 [==============================] - 193s 20ms/step - loss: 0.4831 - acc: 0.7317 - f1: 0.7291\n",
      "Epoch 30/150\n",
      "9414/9414 [==============================] - 195s 21ms/step - loss: 0.5566 - acc: 0.7175 - f1: 0.7141\n",
      "Epoch 31/150\n",
      "9414/9414 [==============================] - 196s 21ms/step - loss: 0.5181 - acc: 0.7237 - f1: 0.7212\n",
      "Epoch 32/150\n",
      "9414/9414 [==============================] - 189s 20ms/step - loss: 0.4710 - acc: 0.7395 - f1: 0.7386\n",
      "Epoch 33/150\n",
      "9414/9414 [==============================] - 185s 20ms/step - loss: 0.4841 - acc: 0.7300 - f1: 0.7285\n",
      "Epoch 34/150\n",
      "2900/9414 [========>.....................] - ETA: 2:05 - loss: 0.4595 - acc: 0.7414 - f1: 0.7391"
     ]
    }
   ],
   "source": [
    "#Entrenamos el modelo \n",
    "\n",
    "N = X_train.shape[1]#number of features\n",
    "n_h = [int(N/2),int(N/4),int(N/8),int(N/16),int(N/32)]\n",
    "#n_h = [6,3,3]\n",
    "print(n_h)\n",
    "print(N)\n",
    "prob_dropout = 0.8\n",
    "model = KerasClassifier(build_fn = create_model,N=N,n_hidd=n_h, p = prob_dropout,epochs = 150, batch_size = 100, verbose = 1)\n",
    "\n",
    "history = model.fit(X_train,y_train)"
   ]
  },
  {
   "cell_type": "code",
   "execution_count": 7,
   "metadata": {},
   "outputs": [
    {
     "data": {
      "text/plain": [
       "[<matplotlib.lines.Line2D at 0x7f007c597a90>]"
      ]
     },
     "execution_count": 7,
     "metadata": {},
     "output_type": "execute_result"
    },
    {
     "data": {
      "image/png": "[encoded data removed]",
      "text/plain": [
       "<matplotlib.figure.Figure at 0x7f007bdb8bd0>"
      ]
     },
     "metadata": {},
     "output_type": "display_data"
    }
   ],
   "source": [
    "#plot loss\n",
    "loss = history.history['loss']\n",
    "\n",
    "epochs = range(1,len(loss)+1)\n",
    "\n",
    "plt.plot(epochs,loss)\n"
   ]
  },
  {
   "cell_type": "code",
   "execution_count": 8,
   "metadata": {},
   "outputs": [
    {
     "data": {
      "text/plain": [
       "[<matplotlib.lines.Line2D at 0x7f007c609190>]"
      ]
     },
     "execution_count": 8,
     "metadata": {},
     "output_type": "execute_result"
    },
    {
     "data": {
      "image/png": "[encoded data removed]",
      "text/plain": [
       "<matplotlib.figure.Figure at 0x7f007c609c50>"
      ]
     },
     "metadata": {},
     "output_type": "display_data"
    }
   ],
   "source": [
    "#plot accuracy and f1\n",
    "acc = history.history['acc']\n",
    "f1 = history.history['f1']\n",
    "\n",
    "epochs = range(1,len(loss)+1)\n",
    "\n",
    "plt.plot(epochs,acc)\n",
    "plt.plot(epochs,f1)\n"
   ]
  },
  {
   "cell_type": "code",
   "execution_count": 9,
   "metadata": {},
   "outputs": [
    {
     "name": "stdout",
     "output_type": "stream",
     "text": [
      "9414/9414 [==============================] - 1s 114us/step\n",
      "accuracy:   0.315\n",
      "classification report:\n",
      "             precision    recall  f1-score   support\n",
      "\n",
      "     Normal       0.27      1.00      0.42      2353\n",
      "         AF       0.00      0.00      0.00      2353\n",
      "      Other       0.00      0.00      0.00      2354\n",
      "      Noise       1.00      0.26      0.41      2354\n",
      "\n",
      "avg / total       0.32      0.31      0.21      9414\n",
      "\n",
      "confusion matrix:\n",
      "[[2353    0    0    0]\n",
      " [2353    0    0    0]\n",
      " [2354    0    0    0]\n",
      " [1743    0    0  611]]\n"
     ]
    },
    {
     "name": "stderr",
     "output_type": "stream",
     "text": [
      "/home/miguelangel/anaconda2/lib/python2.7/site-packages/sklearn/metrics/classification.py:1135: UndefinedMetricWarning: Precision and F-score are ill-defined and being set to 0.0 in labels with no predicted samples.\n",
      "  'precision', 'predicted', average, warn_for)\n"
     ]
    }
   ],
   "source": [
    "from sklearn import metrics\n",
    "#training and dev prediction\n",
    "y_hat_train = model.predict(X_train)\n",
    "\n",
    "target_names = ['Normal','AF','Other','Noise']\n",
    "score = metrics.accuracy_score(y_train, y_hat_train)\n",
    "print(\"accuracy:   %0.3f\" % score)\n",
    "#report de metricas\n",
    "print(\"classification report:\")\n",
    "print(metrics.classification_report(y_train, y_hat_train,target_names=target_names))\n",
    "\n",
    "\n",
    "print(\"confusion matrix:\")\n",
    "print(metrics.confusion_matrix(y_train, y_hat_train))"
   ]
  },
  {
   "cell_type": "code",
   "execution_count": 10,
   "metadata": {},
   "outputs": [
    {
     "name": "stdout",
     "output_type": "stream",
     "text": [
      "2354/2354 [==============================] - 0s 109us/step\n",
      "accuracy:   0.313\n",
      "classification report:\n",
      "             precision    recall  f1-score   support\n",
      "\n",
      "     Normal       0.27      1.00      0.42       589\n",
      "         AF       0.00      0.00      0.00       589\n",
      "      Other       0.00      0.00      0.00       588\n",
      "      Noise       1.00      0.25      0.40       588\n",
      "\n",
      "avg / total       0.32      0.31      0.21      2354\n",
      "\n",
      "confusion matrix:\n",
      "[[589   0   0   0]\n",
      " [589   0   0   0]\n",
      " [588   0   0   0]\n",
      " [441   0   0 147]]\n"
     ]
    }
   ],
   "source": [
    "from sklearn import metrics\n",
    "#training and dev prediction\n",
    "y_hat_dev = model.predict(X_dev)\n",
    "\n",
    "target_names = ['Normal','AF','Other','Noise']\n",
    "\n",
    "\n",
    "\n",
    "score = metrics.accuracy_score(y_dev, y_hat_dev)\n",
    "print(\"accuracy:   %0.3f\" % score)\n",
    "#report de metricas\n",
    "print(\"classification report:\")\n",
    "print(metrics.classification_report(y_dev, y_hat_dev,target_names=target_names))\n",
    "\n",
    "\n",
    "print(\"confusion matrix:\")\n",
    "print(metrics.confusion_matrix(y_dev, y_hat_dev))"
   ]
  },
  {
   "cell_type": "code",
   "execution_count": null,
   "metadata": {},
   "outputs": [],
   "source": []
  }
 ],
 "metadata": {
  "kernelspec": {
   "display_name": "Python 2",
   "language": "python",
   "name": "python2"
  },
  "language_info": {
   "codemirror_mode": {
    "name": "ipython",
    "version": 2
   },
   "file_extension": ".py",
   "mimetype": "text/x-python",
   "name": "python",
   "nbconvert_exporter": "python",
   "pygments_lexer": "ipython2",
   "version": "2.7.14"
  }
 },
 "nbformat": 4,
 "nbformat_minor": 2
}
